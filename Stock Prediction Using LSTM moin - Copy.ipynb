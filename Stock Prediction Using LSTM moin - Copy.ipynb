{
 "cells": [
  {
   "cell_type": "code",
   "execution_count": null,
   "metadata": {},
   "outputs": [],
   "source": [
    "### Stock Market Prediction And Forecasting Using Stacked LSTM"
   ]
  },
  {
   "cell_type": "code",
   "execution_count": 64,
   "metadata": {},
   "outputs": [],
   "source": [
    "import pandas as pd"
   ]
  },
  {
   "cell_type": "code",
   "execution_count": 65,
   "metadata": {},
   "outputs": [],
   "source": [
    "df=pd.read_csv('I:\\\\DSE_STOCKS.csv')"
   ]
  },
  {
   "cell_type": "code",
   "execution_count": 66,
   "metadata": {},
   "outputs": [
    {
     "data": {
      "text/html": [
       "<div>\n",
       "<style scoped>\n",
       "    .dataframe tbody tr th:only-of-type {\n",
       "        vertical-align: middle;\n",
       "    }\n",
       "\n",
       "    .dataframe tbody tr th {\n",
       "        vertical-align: top;\n",
       "    }\n",
       "\n",
       "    .dataframe thead th {\n",
       "        text-align: right;\n",
       "    }\n",
       "</style>\n",
       "<table border=\"1\" class=\"dataframe\">\n",
       "  <thead>\n",
       "    <tr style=\"text-align: right;\">\n",
       "      <th></th>\n",
       "      <th>Date</th>\n",
       "      <th>Scrip</th>\n",
       "      <th>Open</th>\n",
       "      <th>High</th>\n",
       "      <th>Low</th>\n",
       "      <th>Close</th>\n",
       "      <th>Volume</th>\n",
       "    </tr>\n",
       "  </thead>\n",
       "  <tbody>\n",
       "    <tr>\n",
       "      <th>0</th>\n",
       "      <td>20230416</td>\n",
       "      <td>00DS30</td>\n",
       "      <td>2201.93174</td>\n",
       "      <td>2203.44690</td>\n",
       "      <td>2199.15020</td>\n",
       "      <td>2199.67374</td>\n",
       "      <td>4696950000</td>\n",
       "    </tr>\n",
       "    <tr>\n",
       "      <th>1</th>\n",
       "      <td>20230416</td>\n",
       "      <td>00DSES</td>\n",
       "      <td>1347.51713</td>\n",
       "      <td>1349.54077</td>\n",
       "      <td>1347.26230</td>\n",
       "      <td>1347.69155</td>\n",
       "      <td>4696950000</td>\n",
       "    </tr>\n",
       "    <tr>\n",
       "      <th>2</th>\n",
       "      <td>20230416</td>\n",
       "      <td>00DSEX</td>\n",
       "      <td>6215.17968</td>\n",
       "      <td>6222.97687</td>\n",
       "      <td>6213.84157</td>\n",
       "      <td>6216.23281</td>\n",
       "      <td>4696950000</td>\n",
       "    </tr>\n",
       "    <tr>\n",
       "      <th>3</th>\n",
       "      <td>20230416</td>\n",
       "      <td>1JANATAMF</td>\n",
       "      <td>6.10000</td>\n",
       "      <td>6.10000</td>\n",
       "      <td>6.10000</td>\n",
       "      <td>6.10000</td>\n",
       "      <td>70</td>\n",
       "    </tr>\n",
       "    <tr>\n",
       "      <th>4</th>\n",
       "      <td>20230416</td>\n",
       "      <td>1STPRIMFMF</td>\n",
       "      <td>13.80000</td>\n",
       "      <td>13.80000</td>\n",
       "      <td>13.80000</td>\n",
       "      <td>13.80000</td>\n",
       "      <td>500</td>\n",
       "    </tr>\n",
       "  </tbody>\n",
       "</table>\n",
       "</div>"
      ],
      "text/plain": [
       "       Date       Scrip        Open        High         Low       Close  \\\n",
       "0  20230416      00DS30  2201.93174  2203.44690  2199.15020  2199.67374   \n",
       "1  20230416      00DSES  1347.51713  1349.54077  1347.26230  1347.69155   \n",
       "2  20230416      00DSEX  6215.17968  6222.97687  6213.84157  6216.23281   \n",
       "3  20230416   1JANATAMF     6.10000     6.10000     6.10000     6.10000   \n",
       "4  20230416  1STPRIMFMF    13.80000    13.80000    13.80000    13.80000   \n",
       "\n",
       "       Volume  \n",
       "0  4696950000  \n",
       "1  4696950000  \n",
       "2  4696950000  \n",
       "3          70  \n",
       "4         500  "
      ]
     },
     "execution_count": 66,
     "metadata": {},
     "output_type": "execute_result"
    }
   ],
   "source": [
    "df.head()"
   ]
  },
  {
   "cell_type": "code",
   "execution_count": 67,
   "metadata": {},
   "outputs": [
    {
     "data": {
      "text/html": [
       "<div>\n",
       "<style scoped>\n",
       "    .dataframe tbody tr th:only-of-type {\n",
       "        vertical-align: middle;\n",
       "    }\n",
       "\n",
       "    .dataframe tbody tr th {\n",
       "        vertical-align: top;\n",
       "    }\n",
       "\n",
       "    .dataframe thead th {\n",
       "        text-align: right;\n",
       "    }\n",
       "</style>\n",
       "<table border=\"1\" class=\"dataframe\">\n",
       "  <thead>\n",
       "    <tr style=\"text-align: right;\">\n",
       "      <th></th>\n",
       "      <th>Date</th>\n",
       "      <th>Scrip</th>\n",
       "      <th>Open</th>\n",
       "      <th>High</th>\n",
       "      <th>Low</th>\n",
       "      <th>Close</th>\n",
       "      <th>Volume</th>\n",
       "    </tr>\n",
       "  </thead>\n",
       "  <tbody>\n",
       "    <tr>\n",
       "      <th>316</th>\n",
       "      <td>20230416</td>\n",
       "      <td>WATACHEM</td>\n",
       "      <td>200.2</td>\n",
       "      <td>200.2</td>\n",
       "      <td>200.2</td>\n",
       "      <td>200.2</td>\n",
       "      <td>32</td>\n",
       "    </tr>\n",
       "    <tr>\n",
       "      <th>317</th>\n",
       "      <td>20230416</td>\n",
       "      <td>WMSHIPYARD</td>\n",
       "      <td>11.0</td>\n",
       "      <td>11.0</td>\n",
       "      <td>11.0</td>\n",
       "      <td>11.0</td>\n",
       "      <td>550</td>\n",
       "    </tr>\n",
       "    <tr>\n",
       "      <th>318</th>\n",
       "      <td>20230416</td>\n",
       "      <td>YPL</td>\n",
       "      <td>16.3</td>\n",
       "      <td>16.3</td>\n",
       "      <td>16.3</td>\n",
       "      <td>16.3</td>\n",
       "      <td>97902</td>\n",
       "    </tr>\n",
       "    <tr>\n",
       "      <th>319</th>\n",
       "      <td>20230416</td>\n",
       "      <td>ZAHINTEX</td>\n",
       "      <td>9.0</td>\n",
       "      <td>9.0</td>\n",
       "      <td>9.0</td>\n",
       "      <td>9.0</td>\n",
       "      <td>1505</td>\n",
       "    </tr>\n",
       "    <tr>\n",
       "      <th>320</th>\n",
       "      <td>20230416</td>\n",
       "      <td>ZEALBANGLA</td>\n",
       "      <td>129.1</td>\n",
       "      <td>131.6</td>\n",
       "      <td>128.0</td>\n",
       "      <td>129.2</td>\n",
       "      <td>2768</td>\n",
       "    </tr>\n",
       "  </tbody>\n",
       "</table>\n",
       "</div>"
      ],
      "text/plain": [
       "         Date       Scrip   Open   High    Low  Close  Volume\n",
       "316  20230416    WATACHEM  200.2  200.2  200.2  200.2      32\n",
       "317  20230416  WMSHIPYARD   11.0   11.0   11.0   11.0     550\n",
       "318  20230416         YPL   16.3   16.3   16.3   16.3   97902\n",
       "319  20230416    ZAHINTEX    9.0    9.0    9.0    9.0    1505\n",
       "320  20230416  ZEALBANGLA  129.1  131.6  128.0  129.2    2768"
      ]
     },
     "execution_count": 67,
     "metadata": {},
     "output_type": "execute_result"
    }
   ],
   "source": [
    "df.tail()"
   ]
  },
  {
   "cell_type": "code",
   "execution_count": 68,
   "metadata": {},
   "outputs": [],
   "source": [
    "df1=df.reset_index()['High']"
   ]
  },
  {
   "cell_type": "code",
   "execution_count": 69,
   "metadata": {
    "scrolled": true
   },
   "outputs": [
    {
     "data": {
      "text/plain": [
       "0      2203.44690\n",
       "1      1349.54077\n",
       "2      6222.97687\n",
       "3         6.10000\n",
       "4        13.80000\n",
       "          ...    \n",
       "316     200.20000\n",
       "317      11.00000\n",
       "318      16.30000\n",
       "319       9.00000\n",
       "320     131.60000\n",
       "Name: High, Length: 321, dtype: float64"
      ]
     },
     "execution_count": 69,
     "metadata": {},
     "output_type": "execute_result"
    }
   ],
   "source": [
    "df1"
   ]
  },
  {
   "cell_type": "code",
   "execution_count": 19,
   "metadata": {},
   "outputs": [
    {
     "name": "stdout",
     "output_type": "stream",
     "text": [
      "Note: you may need to restart the kernel to use updated packages.Collecting matplotlib\n",
      "  Downloading matplotlib-3.7.2-cp310-cp310-win_amd64.whl (7.5 MB)\n",
      "     ---------------------------------------- 7.5/7.5 MB 2.7 MB/s eta 0:00:00\n",
      "Collecting fonttools>=4.22.0\n",
      "  Downloading fonttools-4.41.0-cp310-cp310-win_amd64.whl (2.0 MB)\n",
      "     ---------------------------------------- 2.0/2.0 MB 2.5 MB/s eta 0:00:00\n",
      "Collecting kiwisolver>=1.0.1\n",
      "  Downloading kiwisolver-1.4.4-cp310-cp310-win_amd64.whl (55 kB)\n",
      "     ---------------------------------------- 55.3/55.3 kB 1.5 MB/s eta 0:00:00\n",
      "Requirement already satisfied: packaging>=20.0 in c:\\users\\it\\appdata\\local\\anaconda3\\lib\\site-packages (from matplotlib) (23.0)\n",
      "Collecting cycler>=0.10\n",
      "  Using cached cycler-0.11.0-py3-none-any.whl (6.4 kB)\n",
      "Collecting pyparsing<3.1,>=2.3.1\n",
      "  Using cached pyparsing-3.0.9-py3-none-any.whl (98 kB)\n",
      "Requirement already satisfied: python-dateutil>=2.7 in c:\\users\\it\\appdata\\local\\anaconda3\\lib\\site-packages (from matplotlib) (2.8.2)\n",
      "Requirement already satisfied: numpy>=1.20 in c:\\users\\it\\appdata\\local\\anaconda3\\lib\\site-packages (from matplotlib) (1.25.1)\n",
      "Requirement already satisfied: pillow>=6.2.0 in c:\\users\\it\\appdata\\local\\anaconda3\\lib\\site-packages (from matplotlib) (9.4.0)\n",
      "Collecting contourpy>=1.0.1\n",
      "  Downloading contourpy-1.1.0-cp310-cp310-win_amd64.whl (470 kB)\n",
      "     -------------------------------------- 470.4/470.4 kB 4.9 MB/s eta 0:00:00\n",
      "Requirement already satisfied: six>=1.5 in c:\\users\\it\\appdata\\local\\anaconda3\\lib\\site-packages (from python-dateutil>=2.7->matplotlib) (1.16.0)\n",
      "Installing collected packages: pyparsing, kiwisolver, fonttools, cycler, contourpy, matplotlib\n",
      "Successfully installed contourpy-1.1.0 cycler-0.11.0 fonttools-4.41.0 kiwisolver-1.4.4 matplotlib-3.7.2 pyparsing-3.0.9\n",
      "\n"
     ]
    }
   ],
   "source": [
    "pip install matplotlib"
   ]
  },
  {
   "cell_type": "code",
   "execution_count": 70,
   "metadata": {},
   "outputs": [
    {
     "data": {
      "text/plain": [
       "[<matplotlib.lines.Line2D at 0x207e021a830>]"
      ]
     },
     "execution_count": 70,
     "metadata": {},
     "output_type": "execute_result"
    },
    {
     "data": {
      "image/png": "[encoded data removed]",
      "text/plain": [
       "<Figure size 640x480 with 1 Axes>"
      ]
     },
     "metadata": {},
     "output_type": "display_data"
    }
   ],
   "source": [
    "import matplotlib.pyplot as plt\n",
    "plt.plot(df1)"
   ]
  },
  {
   "cell_type": "code",
   "execution_count": 8,
   "metadata": {},
   "outputs": [],
   "source": [
    "### LSTM are sensitive to the scale of the data. so we apply MinMax scaler "
   ]
  },
  {
   "cell_type": "code",
   "execution_count": 71,
   "metadata": {},
   "outputs": [],
   "source": [
    "import numpy as np"
   ]
  },
  {
   "cell_type": "code",
   "execution_count": 72,
   "metadata": {
    "scrolled": true
   },
   "outputs": [
    {
     "data": {
      "text/plain": [
       "0      2203.44690\n",
       "1      1349.54077\n",
       "2      6222.97687\n",
       "3         6.10000\n",
       "4        13.80000\n",
       "          ...    \n",
       "316     200.20000\n",
       "317      11.00000\n",
       "318      16.30000\n",
       "319       9.00000\n",
       "320     131.60000\n",
       "Name: High, Length: 321, dtype: float64"
      ]
     },
     "execution_count": 72,
     "metadata": {},
     "output_type": "execute_result"
    }
   ],
   "source": [
    "df1"
   ]
  },
  {
   "cell_type": "code",
   "execution_count": 49,
   "metadata": {},
   "outputs": [
    {
     "name": "stdout",
     "output_type": "stream",
     "text": [
      "Requirement already satisfied: scikit-learn in c:\\users\\it\\appdata\\local\\anaconda3\\lib\\site-packages (1.3.0)Note: you may need to restart the kernel to use updated packages.\n",
      "\n",
      "Requirement already satisfied: threadpoolctl>=2.0.0 in c:\\users\\it\\appdata\\local\\anaconda3\\lib\\site-packages (from scikit-learn) (3.2.0)\n",
      "Requirement already satisfied: joblib>=1.1.1 in c:\\users\\it\\appdata\\local\\anaconda3\\lib\\site-packages (from scikit-learn) (1.3.1)\n",
      "Requirement already satisfied: scipy>=1.5.0 in c:\\users\\it\\appdata\\local\\anaconda3\\lib\\site-packages (from scikit-learn) (1.11.1)\n",
      "Requirement already satisfied: numpy>=1.17.3 in c:\\users\\it\\appdata\\local\\anaconda3\\lib\\site-packages (from scikit-learn) (1.25.1)\n"
     ]
    }
   ],
   "source": [
    "pip install scikit-learn"
   ]
  },
  {
   "cell_type": "code",
   "execution_count": 73,
   "metadata": {},
   "outputs": [],
   "source": [
    "from sklearn.preprocessing import MinMaxScaler\n",
    "scaler=MinMaxScaler(feature_range=(0,1))\n",
    "df1=scaler.fit_transform(np.array(df1).reshape(-1,1))"
   ]
  },
  {
   "cell_type": "code",
   "execution_count": 74,
   "metadata": {},
   "outputs": [
    {
     "data": {
      "text/plain": [
       "array([[3.53563055e-01],\n",
       "       [2.16234444e-01],\n",
       "       [1.00000000e+00],\n",
       "       [1.76906416e-04],\n",
       "       [1.41525132e-03],\n",
       "       [1.23834491e-02],\n",
       "       [5.58059329e-03],\n",
       "       [3.21648028e-05],\n",
       "       [7.88037669e-04],\n",
       "       [3.45771630e-03],\n",
       "       [4.10422884e-02],\n",
       "       [2.47347334e-02],\n",
       "       [1.28659211e-02],\n",
       "       [4.88905003e-03],\n",
       "       [2.29978340e-03],\n",
       "       [2.15343355e-02],\n",
       "       [2.86266745e-03],\n",
       "       [3.13606828e-03],\n",
       "       [2.84658505e-03],\n",
       "       [4.63173161e-03],\n",
       "       [3.69895232e-04],\n",
       "       [2.58926663e-02],\n",
       "       [2.99132666e-03],\n",
       "       [1.33483932e-03],\n",
       "       [4.58348440e-03],\n",
       "       [8.19880824e-02],\n",
       "       [4.22967157e-02],\n",
       "       [4.40657799e-03],\n",
       "       [3.34996421e-02],\n",
       "       [5.06595645e-03],\n",
       "       [4.58026792e-02],\n",
       "       [5.95048852e-02],\n",
       "       [1.92506345e-02],\n",
       "       [1.73689935e-02],\n",
       "       [5.14636845e-04],\n",
       "       [4.33259894e-02],\n",
       "       [3.05565627e-03],\n",
       "       [7.06017422e-03],\n",
       "       [6.28821895e-03],\n",
       "       [1.59537422e-02],\n",
       "       [1.39916892e-02],\n",
       "       [1.84947616e-02],\n",
       "       [2.44452501e-03],\n",
       "       [2.62143143e-03],\n",
       "       [1.55999294e-01],\n",
       "       [8.26152961e-02],\n",
       "       [3.03957387e-03],\n",
       "       [2.66967863e-03],\n",
       "       [7.22099823e-03],\n",
       "       [2.47668982e-02],\n",
       "       [5.53234609e-03],\n",
       "       [4.21358917e-02],\n",
       "       [1.27050971e-03],\n",
       "       [5.45193408e-03],\n",
       "       [3.05565627e-03],\n",
       "       [6.03090053e-03],\n",
       "       [3.85977634e-02],\n",
       "       [3.66678752e-03],\n",
       "       [2.79029665e-01],\n",
       "       [1.29463331e-02],\n",
       "       [1.77871360e-02],\n",
       "       [7.55872866e-03],\n",
       "       [8.31460153e-03],\n",
       "       [1.19813891e-02],\n",
       "       [3.90802354e-03],\n",
       "       [5.38760447e-03],\n",
       "       [2.00386722e-02],\n",
       "       [3.44002566e-02],\n",
       "       [1.36700412e-02],\n",
       "       [9.47253443e-03],\n",
       "       [2.27083508e-02],\n",
       "       [8.36284873e-04],\n",
       "       [8.04120071e-04],\n",
       "       [2.70184344e-03],\n",
       "       [5.11420365e-03],\n",
       "       [9.44036963e-03],\n",
       "       [1.35092172e-02],\n",
       "       [3.94018835e-03],\n",
       "       [5.13028605e-03],\n",
       "       [4.84080283e-03],\n",
       "       [2.55227710e-02],\n",
       "       [1.31875692e-03],\n",
       "       [9.77810006e-03],\n",
       "       [8.49150795e-03],\n",
       "       [3.05565627e-04],\n",
       "       [2.21776315e-02],\n",
       "       [5.62884049e-04],\n",
       "       [5.08203885e-03],\n",
       "       [1.73689935e-03],\n",
       "       [3.69895232e-03],\n",
       "       [1.31875692e-03],\n",
       "       [9.11872160e-03],\n",
       "       [1.80122896e-03],\n",
       "       [1.84947616e-02],\n",
       "       [9.26346321e-03],\n",
       "       [6.75460859e-03],\n",
       "       [3.00740906e-03],\n",
       "       [2.59087487e-01],\n",
       "       [4.40657799e-03],\n",
       "       [3.85977634e-04],\n",
       "       [2.41236021e-04],\n",
       "       [2.88196633e-02],\n",
       "       [1.89450689e-02],\n",
       "       [3.16823308e-03],\n",
       "       [5.51626368e-03],\n",
       "       [1.28659211e-04],\n",
       "       [8.84532078e-04],\n",
       "       [1.13863402e-02],\n",
       "       [6.43296057e-05],\n",
       "       [0.00000000e+00],\n",
       "       [1.96205297e-03],\n",
       "       [1.11772690e-02],\n",
       "       [7.71955268e-04],\n",
       "       [1.13702578e-02],\n",
       "       [2.97524426e-03],\n",
       "       [1.62432254e-03],\n",
       "       [1.20810999e-01],\n",
       "       [1.48118917e-02],\n",
       "       [1.60824014e-04],\n",
       "       [6.43296057e-04],\n",
       "       [3.90802354e-03],\n",
       "       [4.52880424e-02],\n",
       "       [6.40079576e-03],\n",
       "       [1.31714868e-02],\n",
       "       [1.64040494e-03],\n",
       "       [3.05565627e-04],\n",
       "       [9.66552325e-03],\n",
       "       [4.06884756e-03],\n",
       "       [7.99295350e-03],\n",
       "       [2.79994609e-02],\n",
       "       [2.17112419e-03],\n",
       "       [1.78353832e-02],\n",
       "       [7.02800942e-03],\n",
       "       [4.59474208e-02],\n",
       "       [1.92988817e-03],\n",
       "       [1.32840636e-02],\n",
       "       [2.41236021e-04],\n",
       "       [3.44163390e-03],\n",
       "       [6.67419659e-03],\n",
       "       [1.04535609e-03],\n",
       "       [1.60824014e-05],\n",
       "       [9.64944085e-05],\n",
       "       [1.25121083e-02],\n",
       "       [3.13606828e-03],\n",
       "       [4.69606121e-03],\n",
       "       [8.45934314e-03],\n",
       "       [4.50307240e-03],\n",
       "       [2.36411301e-03],\n",
       "       [6.88326780e-03],\n",
       "       [4.76039082e-03],\n",
       "       [2.63751383e-03],\n",
       "       [2.86266745e-02],\n",
       "       [3.52204591e-03],\n",
       "       [1.20778835e-02],\n",
       "       [4.02864155e-02],\n",
       "       [3.66517928e-02],\n",
       "       [3.65070512e-03],\n",
       "       [3.51239647e-02],\n",
       "       [7.88037669e-04],\n",
       "       [1.15793290e-02],\n",
       "       [2.25153620e-04],\n",
       "       [7.10842142e-02],\n",
       "       [3.47379871e-03],\n",
       "       [6.27213655e-04],\n",
       "       [3.00740906e-03],\n",
       "       [3.37730430e-03],\n",
       "       [1.31071572e-02],\n",
       "       [9.61727604e-03],\n",
       "       [1.06722816e-01],\n",
       "       [2.23979604e-01],\n",
       "       [4.84080283e-03],\n",
       "       [2.25153620e-04],\n",
       "       [2.78225544e-03],\n",
       "       [3.55421071e-03],\n",
       "       [3.88631230e-01],\n",
       "       [2.57318423e-04],\n",
       "       [8.76490877e-03],\n",
       "       [4.00451795e-03],\n",
       "       [1.04213961e-02],\n",
       "       [4.10101236e-03],\n",
       "       [1.43133373e-03],\n",
       "       [5.38760447e-03],\n",
       "       [8.04120071e-04],\n",
       "       [1.25442731e-03],\n",
       "       [3.21648028e-03],\n",
       "       [1.70473455e-03],\n",
       "       [1.31393220e-02],\n",
       "       [3.18431548e-03],\n",
       "       [1.34931348e-01],\n",
       "       [1.58090006e-02],\n",
       "       [3.07173867e-03],\n",
       "       [4.53041248e-02],\n",
       "       [3.16823308e-02],\n",
       "       [1.86555856e-03],\n",
       "       [2.95916186e-03],\n",
       "       [1.09360330e-02],\n",
       "       [5.30719247e-04],\n",
       "       [1.41525132e-03],\n",
       "       [6.44904297e-03],\n",
       "       [1.72081695e-03],\n",
       "       [5.91832372e-03],\n",
       "       [4.87296763e-03],\n",
       "       [3.08460459e-02],\n",
       "       [5.41976928e-03],\n",
       "       [2.02638258e-03],\n",
       "       [1.02943451e-01],\n",
       "       [1.19813891e-02],\n",
       "       [3.21648028e-04],\n",
       "       [1.78514656e-03],\n",
       "       [2.59569959e-02],\n",
       "       [8.20202472e-04],\n",
       "       [5.80413867e-02],\n",
       "       [1.19974715e-02],\n",
       "       [5.82182931e-03],\n",
       "       [3.28402637e-02],\n",
       "       [2.73400824e-02],\n",
       "       [5.37152207e-03],\n",
       "       [7.88037669e-04],\n",
       "       [3.60245792e-03],\n",
       "       [4.32616598e-03],\n",
       "       [7.88037669e-04],\n",
       "       [4.67997881e-03],\n",
       "       [1.06947969e-02],\n",
       "       [1.60824014e-05],\n",
       "       [9.98717128e-03],\n",
       "       [7.62305827e-03],\n",
       "       [8.97397999e-03],\n",
       "       [1.57285886e-02],\n",
       "       [1.39916892e-03],\n",
       "       [2.50885462e-03],\n",
       "       [1.25121083e-02],\n",
       "       [1.00515009e-02],\n",
       "       [1.16275762e-02],\n",
       "       [8.66841436e-03],\n",
       "       [1.15793290e-02],\n",
       "       [3.45771630e-03],\n",
       "       [3.24864509e-03],\n",
       "       [8.58800235e-03],\n",
       "       [2.94307946e-03],\n",
       "       [3.74237481e-02],\n",
       "       [2.21133019e-02],\n",
       "       [6.09523014e-03],\n",
       "       [2.46060742e-02],\n",
       "       [7.20491583e-03],\n",
       "       [7.64830764e-01],\n",
       "       [7.71955268e-04],\n",
       "       [7.88037669e-04],\n",
       "       [8.10553031e-03],\n",
       "       [1.95063447e-01],\n",
       "       [1.27678185e-01],\n",
       "       [4.21358917e-03],\n",
       "       [1.92988817e-04],\n",
       "       [4.02060035e-03],\n",
       "       [1.83339376e-03],\n",
       "       [6.97976221e-03],\n",
       "       [3.24864509e-03],\n",
       "       [3.40946910e-03],\n",
       "       [1.43133373e-02],\n",
       "       [3.97235315e-03],\n",
       "       [1.83339376e-03],\n",
       "       [2.02638258e-03],\n",
       "       [9.13480400e-03],\n",
       "       [1.01962425e-02],\n",
       "       [1.05178905e-02],\n",
       "       [3.52204591e-03],\n",
       "       [3.98843555e-03],\n",
       "       [8.84532078e-04],\n",
       "       [4.47573231e-02],\n",
       "       [5.46801648e-04],\n",
       "       [5.62884049e-04],\n",
       "       [2.28370100e-03],\n",
       "       [3.53812831e-03],\n",
       "       [1.49566333e-03],\n",
       "       [1.37665356e-02],\n",
       "       [1.17401530e-03],\n",
       "       [2.95916186e-03],\n",
       "       [1.64040494e-03],\n",
       "       [2.36250477e-02],\n",
       "       [8.86140318e-03],\n",
       "       [6.60986698e-03],\n",
       "       [3.07173867e-03],\n",
       "       [7.30141024e-02],\n",
       "       [9.31171042e-03],\n",
       "       [9.81187310e-02],\n",
       "       [6.40079576e-03],\n",
       "       [4.51915480e-03],\n",
       "       [1.41525132e-03],\n",
       "       [6.11131254e-03],\n",
       "       [9.72985285e-03],\n",
       "       [1.00515009e-02],\n",
       "       [3.29367581e-02],\n",
       "       [1.86555856e-03],\n",
       "       [1.79801248e-02],\n",
       "       [6.11131254e-04],\n",
       "       [1.29302507e-02],\n",
       "       [4.66389641e-03],\n",
       "       [8.42717834e-03],\n",
       "       [5.96657092e-03],\n",
       "       [2.92538882e-02],\n",
       "       [5.77358211e-03],\n",
       "       [3.08782107e-03],\n",
       "       [9.64944085e-05],\n",
       "       [4.80863802e-03],\n",
       "       [1.28659211e-04],\n",
       "       [1.28659211e-03],\n",
       "       [3.20859991e-01],\n",
       "       [6.27213655e-04],\n",
       "       [4.34224838e-04],\n",
       "       [5.74141730e-03],\n",
       "       [1.14989170e-02],\n",
       "       [5.29111006e-03],\n",
       "       [3.67804520e-02],\n",
       "       [8.10553031e-03],\n",
       "       [3.23256268e-03],\n",
       "       [4.63173161e-03],\n",
       "       [1.67691200e-01],\n",
       "       [3.13928476e-02],\n",
       "       [9.64944085e-04],\n",
       "       [1.81731136e-03],\n",
       "       [6.43296057e-04],\n",
       "       [2.03603202e-02]])"
      ]
     },
     "execution_count": 74,
     "metadata": {},
     "output_type": "execute_result"
    }
   ],
   "source": [
    "df1"
   ]
  },
  {
   "cell_type": "code",
   "execution_count": 75,
   "metadata": {},
   "outputs": [],
   "source": [
    "##splitting dataset into train and test split\n",
    "training_size=int(len(df1)*0.65)\n",
    "test_size=len(df1)-training_size\n",
    "train_data,test_data=df1[0:training_size,:],df1[training_size:len(df1),:1]"
   ]
  },
  {
   "cell_type": "code",
   "execution_count": 76,
   "metadata": {},
   "outputs": [
    {
     "data": {
      "text/plain": [
       "(208, 113)"
      ]
     },
     "execution_count": 76,
     "metadata": {},
     "output_type": "execute_result"
    }
   ],
   "source": [
    "training_size,test_size"
   ]
  },
  {
   "cell_type": "code",
   "execution_count": 77,
   "metadata": {},
   "outputs": [
    {
     "data": {
      "text/plain": [
       "array([[3.53563055e-01],\n",
       "       [2.16234444e-01],\n",
       "       [1.00000000e+00],\n",
       "       [1.76906416e-04],\n",
       "       [1.41525132e-03],\n",
       "       [1.23834491e-02],\n",
       "       [5.58059329e-03],\n",
       "       [3.21648028e-05],\n",
       "       [7.88037669e-04],\n",
       "       [3.45771630e-03],\n",
       "       [4.10422884e-02],\n",
       "       [2.47347334e-02],\n",
       "       [1.28659211e-02],\n",
       "       [4.88905003e-03],\n",
       "       [2.29978340e-03],\n",
       "       [2.15343355e-02],\n",
       "       [2.86266745e-03],\n",
       "       [3.13606828e-03],\n",
       "       [2.84658505e-03],\n",
       "       [4.63173161e-03],\n",
       "       [3.69895232e-04],\n",
       "       [2.58926663e-02],\n",
       "       [2.99132666e-03],\n",
       "       [1.33483932e-03],\n",
       "       [4.58348440e-03],\n",
       "       [8.19880824e-02],\n",
       "       [4.22967157e-02],\n",
       "       [4.40657799e-03],\n",
       "       [3.34996421e-02],\n",
       "       [5.06595645e-03],\n",
       "       [4.58026792e-02],\n",
       "       [5.95048852e-02],\n",
       "       [1.92506345e-02],\n",
       "       [1.73689935e-02],\n",
       "       [5.14636845e-04],\n",
       "       [4.33259894e-02],\n",
       "       [3.05565627e-03],\n",
       "       [7.06017422e-03],\n",
       "       [6.28821895e-03],\n",
       "       [1.59537422e-02],\n",
       "       [1.39916892e-02],\n",
       "       [1.84947616e-02],\n",
       "       [2.44452501e-03],\n",
       "       [2.62143143e-03],\n",
       "       [1.55999294e-01],\n",
       "       [8.26152961e-02],\n",
       "       [3.03957387e-03],\n",
       "       [2.66967863e-03],\n",
       "       [7.22099823e-03],\n",
       "       [2.47668982e-02],\n",
       "       [5.53234609e-03],\n",
       "       [4.21358917e-02],\n",
       "       [1.27050971e-03],\n",
       "       [5.45193408e-03],\n",
       "       [3.05565627e-03],\n",
       "       [6.03090053e-03],\n",
       "       [3.85977634e-02],\n",
       "       [3.66678752e-03],\n",
       "       [2.79029665e-01],\n",
       "       [1.29463331e-02],\n",
       "       [1.77871360e-02],\n",
       "       [7.55872866e-03],\n",
       "       [8.31460153e-03],\n",
       "       [1.19813891e-02],\n",
       "       [3.90802354e-03],\n",
       "       [5.38760447e-03],\n",
       "       [2.00386722e-02],\n",
       "       [3.44002566e-02],\n",
       "       [1.36700412e-02],\n",
       "       [9.47253443e-03],\n",
       "       [2.27083508e-02],\n",
       "       [8.36284873e-04],\n",
       "       [8.04120071e-04],\n",
       "       [2.70184344e-03],\n",
       "       [5.11420365e-03],\n",
       "       [9.44036963e-03],\n",
       "       [1.35092172e-02],\n",
       "       [3.94018835e-03],\n",
       "       [5.13028605e-03],\n",
       "       [4.84080283e-03],\n",
       "       [2.55227710e-02],\n",
       "       [1.31875692e-03],\n",
       "       [9.77810006e-03],\n",
       "       [8.49150795e-03],\n",
       "       [3.05565627e-04],\n",
       "       [2.21776315e-02],\n",
       "       [5.62884049e-04],\n",
       "       [5.08203885e-03],\n",
       "       [1.73689935e-03],\n",
       "       [3.69895232e-03],\n",
       "       [1.31875692e-03],\n",
       "       [9.11872160e-03],\n",
       "       [1.80122896e-03],\n",
       "       [1.84947616e-02],\n",
       "       [9.26346321e-03],\n",
       "       [6.75460859e-03],\n",
       "       [3.00740906e-03],\n",
       "       [2.59087487e-01],\n",
       "       [4.40657799e-03],\n",
       "       [3.85977634e-04],\n",
       "       [2.41236021e-04],\n",
       "       [2.88196633e-02],\n",
       "       [1.89450689e-02],\n",
       "       [3.16823308e-03],\n",
       "       [5.51626368e-03],\n",
       "       [1.28659211e-04],\n",
       "       [8.84532078e-04],\n",
       "       [1.13863402e-02],\n",
       "       [6.43296057e-05],\n",
       "       [0.00000000e+00],\n",
       "       [1.96205297e-03],\n",
       "       [1.11772690e-02],\n",
       "       [7.71955268e-04],\n",
       "       [1.13702578e-02],\n",
       "       [2.97524426e-03],\n",
       "       [1.62432254e-03],\n",
       "       [1.20810999e-01],\n",
       "       [1.48118917e-02],\n",
       "       [1.60824014e-04],\n",
       "       [6.43296057e-04],\n",
       "       [3.90802354e-03],\n",
       "       [4.52880424e-02],\n",
       "       [6.40079576e-03],\n",
       "       [1.31714868e-02],\n",
       "       [1.64040494e-03],\n",
       "       [3.05565627e-04],\n",
       "       [9.66552325e-03],\n",
       "       [4.06884756e-03],\n",
       "       [7.99295350e-03],\n",
       "       [2.79994609e-02],\n",
       "       [2.17112419e-03],\n",
       "       [1.78353832e-02],\n",
       "       [7.02800942e-03],\n",
       "       [4.59474208e-02],\n",
       "       [1.92988817e-03],\n",
       "       [1.32840636e-02],\n",
       "       [2.41236021e-04],\n",
       "       [3.44163390e-03],\n",
       "       [6.67419659e-03],\n",
       "       [1.04535609e-03],\n",
       "       [1.60824014e-05],\n",
       "       [9.64944085e-05],\n",
       "       [1.25121083e-02],\n",
       "       [3.13606828e-03],\n",
       "       [4.69606121e-03],\n",
       "       [8.45934314e-03],\n",
       "       [4.50307240e-03],\n",
       "       [2.36411301e-03],\n",
       "       [6.88326780e-03],\n",
       "       [4.76039082e-03],\n",
       "       [2.63751383e-03],\n",
       "       [2.86266745e-02],\n",
       "       [3.52204591e-03],\n",
       "       [1.20778835e-02],\n",
       "       [4.02864155e-02],\n",
       "       [3.66517928e-02],\n",
       "       [3.65070512e-03],\n",
       "       [3.51239647e-02],\n",
       "       [7.88037669e-04],\n",
       "       [1.15793290e-02],\n",
       "       [2.25153620e-04],\n",
       "       [7.10842142e-02],\n",
       "       [3.47379871e-03],\n",
       "       [6.27213655e-04],\n",
       "       [3.00740906e-03],\n",
       "       [3.37730430e-03],\n",
       "       [1.31071572e-02],\n",
       "       [9.61727604e-03],\n",
       "       [1.06722816e-01],\n",
       "       [2.23979604e-01],\n",
       "       [4.84080283e-03],\n",
       "       [2.25153620e-04],\n",
       "       [2.78225544e-03],\n",
       "       [3.55421071e-03],\n",
       "       [3.88631230e-01],\n",
       "       [2.57318423e-04],\n",
       "       [8.76490877e-03],\n",
       "       [4.00451795e-03],\n",
       "       [1.04213961e-02],\n",
       "       [4.10101236e-03],\n",
       "       [1.43133373e-03],\n",
       "       [5.38760447e-03],\n",
       "       [8.04120071e-04],\n",
       "       [1.25442731e-03],\n",
       "       [3.21648028e-03],\n",
       "       [1.70473455e-03],\n",
       "       [1.31393220e-02],\n",
       "       [3.18431548e-03],\n",
       "       [1.34931348e-01],\n",
       "       [1.58090006e-02],\n",
       "       [3.07173867e-03],\n",
       "       [4.53041248e-02],\n",
       "       [3.16823308e-02],\n",
       "       [1.86555856e-03],\n",
       "       [2.95916186e-03],\n",
       "       [1.09360330e-02],\n",
       "       [5.30719247e-04],\n",
       "       [1.41525132e-03],\n",
       "       [6.44904297e-03],\n",
       "       [1.72081695e-03],\n",
       "       [5.91832372e-03],\n",
       "       [4.87296763e-03],\n",
       "       [3.08460459e-02],\n",
       "       [5.41976928e-03],\n",
       "       [2.02638258e-03],\n",
       "       [1.02943451e-01],\n",
       "       [1.19813891e-02],\n",
       "       [3.21648028e-04]])"
      ]
     },
     "execution_count": 77,
     "metadata": {},
     "output_type": "execute_result"
    }
   ],
   "source": [
    "train_data"
   ]
  },
  {
   "cell_type": "code",
   "execution_count": 78,
   "metadata": {},
   "outputs": [],
   "source": [
    "import numpy\n",
    "# convert an array of values into a dataset matrix\n",
    "def create_dataset(dataset, time_step=1):\n",
    "\tdataX, dataY = [], []\n",
    "\tfor i in range(len(dataset)-time_step-1):\n",
    "\t\ta = dataset[i:(i+time_step), 0]   ###i=0, X=0,1,2,3-----99   Y=100 \n",
    "\t\tdataX.append(a)\n",
    "\t\tdataY.append(dataset[i + time_step, 0])\n",
    "\treturn numpy.array(dataX), numpy.array(dataY)"
   ]
  },
  {
   "cell_type": "code",
   "execution_count": 79,
   "metadata": {},
   "outputs": [],
   "source": [
    "# reshape into X=t,t+1,t+2..t+99 and Y=t+100\n",
    "\n",
    "time_step = 100\n",
    "X_train, y_train = create_dataset(train_data, time_step)\n",
    "X_test, ytest = create_dataset(test_data, time_step)"
   ]
  },
  {
   "cell_type": "code",
   "execution_count": 80,
   "metadata": {},
   "outputs": [
    {
     "name": "stdout",
     "output_type": "stream",
     "text": [
      "(107, 100)\n",
      "(107,)\n"
     ]
    },
    {
     "data": {
      "text/plain": [
       "(None, None)"
      ]
     },
     "execution_count": 80,
     "metadata": {},
     "output_type": "execute_result"
    }
   ],
   "source": [
    "print(X_train.shape), print(y_train.shape)"
   ]
  },
  {
   "cell_type": "code",
   "execution_count": 82,
   "metadata": {},
   "outputs": [
    {
     "name": "stdout",
     "output_type": "stream",
     "text": [
      "(12, 100)\n",
      "(12,)\n"
     ]
    },
    {
     "data": {
      "text/plain": [
       "(None, None)"
      ]
     },
     "execution_count": 82,
     "metadata": {},
     "output_type": "execute_result"
    }
   ],
   "source": [
    "print(X_test.shape), print(ytest.shape)"
   ]
  },
  {
   "cell_type": "code",
   "execution_count": 83,
   "metadata": {},
   "outputs": [],
   "source": [
    "# reshape input to be [samples, time steps, features] which is required for LSTM\n",
    "X_train =X_train.reshape(X_train.shape[0],X_train.shape[1] , 1)\n",
    "X_test = X_test.reshape(X_test.shape[0],X_test.shape[1] , 1)"
   ]
  },
  {
   "cell_type": "code",
   "execution_count": 48,
   "metadata": {},
   "outputs": [
    {
     "name": "stdout",
     "output_type": "stream",
     "text": [
      "Requirement already satisfied: wrapt in c:\\users\\it\\appdata\\local\\anaconda3\\lib\\site-packages (1.15.0)\n",
      "Note: you may need to restart the kernel to use updated packages.\n"
     ]
    }
   ],
   "source": [
    "pip install wrapt"
   ]
  },
  {
   "cell_type": "code",
   "execution_count": 84,
   "metadata": {},
   "outputs": [],
   "source": [
    "model=Sequential()\n",
    "model.add(LSTM(50,return_sequences=True,input_shape=(100,1)))\n",
    "model.add(LSTM(50,return_sequences=True))\n",
    "model.add(LSTM(50))\n",
    "model.add(Dense(1))\n",
    "model.compile(loss='mean_squared_error',optimizer='adam')\n"
   ]
  },
  {
   "cell_type": "code",
   "execution_count": 85,
   "metadata": {},
   "outputs": [],
   "source": [
    "### Create the Stacked LSTM model\n",
    "from tensorflow.keras.models import Sequential\n",
    "from tensorflow.keras.layers import Dense\n",
    "from tensorflow.keras.layers import LSTM"
   ]
  },
  {
   "cell_type": "code",
   "execution_count": 86,
   "metadata": {},
   "outputs": [
    {
     "name": "stdout",
     "output_type": "stream",
     "text": [
      "Model: \"sequential\"\n",
      "_________________________________________________________________\n",
      " Layer (type)                Output Shape              Param #   \n",
      "=================================================================\n",
      " lstm (LSTM)                 (None, 100, 50)           10400     \n",
      "                                                                 \n",
      " lstm_1 (LSTM)               (None, 100, 50)           20200     \n",
      "                                                                 \n",
      " lstm_2 (LSTM)               (None, 50)                20200     \n",
      "                                                                 \n",
      " dense (Dense)               (None, 1)                 51        \n",
      "                                                                 \n",
      "=================================================================\n",
      "Total params: 50,851\n",
      "Trainable params: 50,851\n",
      "Non-trainable params: 0\n",
      "_________________________________________________________________\n"
     ]
    }
   ],
   "source": [
    "model.summary()"
   ]
  },
  {
   "cell_type": "code",
   "execution_count": 87,
   "metadata": {},
   "outputs": [
    {
     "name": "stdout",
     "output_type": "stream",
     "text": [
      "Model: \"sequential\"\n",
      "_________________________________________________________________\n",
      " Layer (type)                Output Shape              Param #   \n",
      "=================================================================\n",
      " lstm (LSTM)                 (None, 100, 50)           10400     \n",
      "                                                                 \n",
      " lstm_1 (LSTM)               (None, 100, 50)           20200     \n",
      "                                                                 \n",
      " lstm_2 (LSTM)               (None, 50)                20200     \n",
      "                                                                 \n",
      " dense (Dense)               (None, 1)                 51        \n",
      "                                                                 \n",
      "=================================================================\n",
      "Total params: 50,851\n",
      "Trainable params: 50,851\n",
      "Non-trainable params: 0\n",
      "_________________________________________________________________\n"
     ]
    }
   ],
   "source": [
    "model.summary()"
   ]
  },
  {
   "cell_type": "code",
   "execution_count": 106,
   "metadata": {},
   "outputs": [
    {
     "name": "stdout",
     "output_type": "stream",
     "text": [
      "Epoch 1/100\n",
      "2/2 [==============================] - 0s 152ms/step - loss: 0.0022 - val_loss: 0.0021\n",
      "Epoch 2/100\n",
      "2/2 [==============================] - 0s 132ms/step - loss: 0.0023 - val_loss: 0.0021\n",
      "Epoch 3/100\n",
      "2/2 [==============================] - 0s 127ms/step - loss: 0.0023 - val_loss: 0.0021\n",
      "Epoch 4/100\n",
      "2/2 [==============================] - 0s 131ms/step - loss: 0.0022 - val_loss: 0.0022\n",
      "Epoch 5/100\n",
      "2/2 [==============================] - 0s 136ms/step - loss: 0.0023 - val_loss: 0.0022\n",
      "Epoch 6/100\n",
      "2/2 [==============================] - 0s 132ms/step - loss: 0.0023 - val_loss: 0.0021\n",
      "Epoch 7/100\n",
      "2/2 [==============================] - 0s 127ms/step - loss: 0.0022 - val_loss: 0.0021\n",
      "Epoch 8/100\n",
      "2/2 [==============================] - 0s 132ms/step - loss: 0.0022 - val_loss: 0.0022\n",
      "Epoch 9/100\n",
      "2/2 [==============================] - 0s 123ms/step - loss: 0.0022 - val_loss: 0.0022\n",
      "Epoch 10/100\n",
      "2/2 [==============================] - 0s 129ms/step - loss: 0.0022 - val_loss: 0.0022\n",
      "Epoch 11/100\n",
      "2/2 [==============================] - 0s 125ms/step - loss: 0.0022 - val_loss: 0.0022\n",
      "Epoch 12/100\n",
      "2/2 [==============================] - 0s 129ms/step - loss: 0.0022 - val_loss: 0.0022\n",
      "Epoch 13/100\n",
      "2/2 [==============================] - 0s 124ms/step - loss: 0.0022 - val_loss: 0.0022\n",
      "Epoch 14/100\n",
      "2/2 [==============================] - 0s 134ms/step - loss: 0.0022 - val_loss: 0.0022\n",
      "Epoch 15/100\n",
      "2/2 [==============================] - 0s 127ms/step - loss: 0.0022 - val_loss: 0.0023\n",
      "Epoch 16/100\n",
      "2/2 [==============================] - 0s 124ms/step - loss: 0.0022 - val_loss: 0.0023\n",
      "Epoch 17/100\n",
      "2/2 [==============================] - 0s 132ms/step - loss: 0.0022 - val_loss: 0.0023\n",
      "Epoch 18/100\n",
      "2/2 [==============================] - 0s 129ms/step - loss: 0.0022 - val_loss: 0.0023\n",
      "Epoch 19/100\n",
      "2/2 [==============================] - 0s 138ms/step - loss: 0.0022 - val_loss: 0.0023\n",
      "Epoch 20/100\n",
      "2/2 [==============================] - 0s 131ms/step - loss: 0.0022 - val_loss: 0.0022\n",
      "Epoch 21/100\n",
      "2/2 [==============================] - 0s 135ms/step - loss: 0.0022 - val_loss: 0.0022\n",
      "Epoch 22/100\n",
      "2/2 [==============================] - 0s 130ms/step - loss: 0.0022 - val_loss: 0.0022\n",
      "Epoch 23/100\n",
      "2/2 [==============================] - 0s 148ms/step - loss: 0.0022 - val_loss: 0.0022\n",
      "Epoch 24/100\n",
      "2/2 [==============================] - 0s 136ms/step - loss: 0.0022 - val_loss: 0.0021\n",
      "Epoch 25/100\n",
      "2/2 [==============================] - 0s 146ms/step - loss: 0.0022 - val_loss: 0.0021\n",
      "Epoch 26/100\n",
      "2/2 [==============================] - 0s 145ms/step - loss: 0.0022 - val_loss: 0.0023\n",
      "Epoch 27/100\n",
      "2/2 [==============================] - 0s 137ms/step - loss: 0.0022 - val_loss: 0.0022\n",
      "Epoch 28/100\n",
      "2/2 [==============================] - 0s 134ms/step - loss: 0.0022 - val_loss: 0.0021\n",
      "Epoch 29/100\n",
      "2/2 [==============================] - 0s 147ms/step - loss: 0.0021 - val_loss: 0.0020\n",
      "Epoch 30/100\n",
      "2/2 [==============================] - 0s 136ms/step - loss: 0.0022 - val_loss: 0.0020\n",
      "Epoch 31/100\n",
      "2/2 [==============================] - 0s 127ms/step - loss: 0.0022 - val_loss: 0.0022\n",
      "Epoch 32/100\n",
      "2/2 [==============================] - 0s 133ms/step - loss: 0.0022 - val_loss: 0.0023\n",
      "Epoch 33/100\n",
      "2/2 [==============================] - 0s 129ms/step - loss: 0.0022 - val_loss: 0.0023\n",
      "Epoch 34/100\n",
      "2/2 [==============================] - 0s 137ms/step - loss: 0.0022 - val_loss: 0.0021\n",
      "Epoch 35/100\n",
      "2/2 [==============================] - 0s 142ms/step - loss: 0.0022 - val_loss: 0.0020\n",
      "Epoch 36/100\n",
      "2/2 [==============================] - 0s 137ms/step - loss: 0.0022 - val_loss: 0.0021\n",
      "Epoch 37/100\n",
      "2/2 [==============================] - 0s 144ms/step - loss: 0.0022 - val_loss: 0.0021\n",
      "Epoch 38/100\n",
      "2/2 [==============================] - 0s 135ms/step - loss: 0.0022 - val_loss: 0.0022\n",
      "Epoch 39/100\n",
      "2/2 [==============================] - 0s 136ms/step - loss: 0.0022 - val_loss: 0.0022\n",
      "Epoch 40/100\n",
      "2/2 [==============================] - 0s 132ms/step - loss: 0.0021 - val_loss: 0.0023\n",
      "Epoch 41/100\n",
      "2/2 [==============================] - 0s 125ms/step - loss: 0.0022 - val_loss: 0.0023\n",
      "Epoch 42/100\n",
      "2/2 [==============================] - 0s 133ms/step - loss: 0.0022 - val_loss: 0.0022\n",
      "Epoch 43/100\n",
      "2/2 [==============================] - 0s 127ms/step - loss: 0.0021 - val_loss: 0.0021\n",
      "Epoch 44/100\n",
      "2/2 [==============================] - 0s 137ms/step - loss: 0.0022 - val_loss: 0.0021\n",
      "Epoch 45/100\n",
      "2/2 [==============================] - 0s 134ms/step - loss: 0.0022 - val_loss: 0.0022\n",
      "Epoch 46/100\n",
      "2/2 [==============================] - 0s 137ms/step - loss: 0.0021 - val_loss: 0.0023\n",
      "Epoch 47/100\n",
      "2/2 [==============================] - 0s 137ms/step - loss: 0.0021 - val_loss: 0.0023\n",
      "Epoch 48/100\n",
      "2/2 [==============================] - 0s 133ms/step - loss: 0.0022 - val_loss: 0.0023\n",
      "Epoch 49/100\n",
      "2/2 [==============================] - 0s 128ms/step - loss: 0.0021 - val_loss: 0.0022\n",
      "Epoch 50/100\n",
      "2/2 [==============================] - 0s 140ms/step - loss: 0.0022 - val_loss: 0.0020\n",
      "Epoch 51/100\n",
      "2/2 [==============================] - 0s 136ms/step - loss: 0.0022 - val_loss: 0.0020\n",
      "Epoch 52/100\n",
      "2/2 [==============================] - 0s 134ms/step - loss: 0.0021 - val_loss: 0.0022\n",
      "Epoch 53/100\n",
      "2/2 [==============================] - 0s 132ms/step - loss: 0.0021 - val_loss: 0.0025\n",
      "Epoch 54/100\n",
      "2/2 [==============================] - 0s 124ms/step - loss: 0.0022 - val_loss: 0.0025\n",
      "Epoch 55/100\n",
      "2/2 [==============================] - 0s 135ms/step - loss: 0.0022 - val_loss: 0.0021\n",
      "Epoch 56/100\n",
      "2/2 [==============================] - 0s 129ms/step - loss: 0.0021 - val_loss: 0.0021\n",
      "Epoch 57/100\n",
      "2/2 [==============================] - 0s 127ms/step - loss: 0.0021 - val_loss: 0.0021\n",
      "Epoch 58/100\n",
      "2/2 [==============================] - 0s 129ms/step - loss: 0.0021 - val_loss: 0.0021\n",
      "Epoch 59/100\n",
      "2/2 [==============================] - 0s 127ms/step - loss: 0.0021 - val_loss: 0.0022\n",
      "Epoch 60/100\n",
      "2/2 [==============================] - 0s 135ms/step - loss: 0.0021 - val_loss: 0.0022\n",
      "Epoch 61/100\n",
      "2/2 [==============================] - 0s 128ms/step - loss: 0.0021 - val_loss: 0.0022\n",
      "Epoch 62/100\n",
      "2/2 [==============================] - 0s 137ms/step - loss: 0.0021 - val_loss: 0.0022\n",
      "Epoch 63/100\n",
      "2/2 [==============================] - 0s 128ms/step - loss: 0.0021 - val_loss: 0.0022\n",
      "Epoch 64/100\n",
      "2/2 [==============================] - 0s 142ms/step - loss: 0.0021 - val_loss: 0.0021\n",
      "Epoch 65/100\n",
      "2/2 [==============================] - 0s 128ms/step - loss: 0.0021 - val_loss: 0.0022\n",
      "Epoch 66/100\n",
      "2/2 [==============================] - 0s 127ms/step - loss: 0.0021 - val_loss: 0.0022\n",
      "Epoch 67/100\n",
      "2/2 [==============================] - 0s 125ms/step - loss: 0.0021 - val_loss: 0.0022\n",
      "Epoch 68/100\n",
      "2/2 [==============================] - 0s 130ms/step - loss: 0.0021 - val_loss: 0.0022\n",
      "Epoch 69/100\n",
      "2/2 [==============================] - 0s 129ms/step - loss: 0.0021 - val_loss: 0.0021\n",
      "Epoch 70/100\n",
      "2/2 [==============================] - 0s 125ms/step - loss: 0.0022 - val_loss: 0.0020\n",
      "Epoch 71/100\n",
      "2/2 [==============================] - 0s 136ms/step - loss: 0.0021 - val_loss: 0.0021\n",
      "Epoch 72/100\n",
      "2/2 [==============================] - 0s 124ms/step - loss: 0.0021 - val_loss: 0.0021\n",
      "Epoch 73/100\n",
      "2/2 [==============================] - 0s 134ms/step - loss: 0.0021 - val_loss: 0.0022\n",
      "Epoch 74/100\n",
      "2/2 [==============================] - 0s 130ms/step - loss: 0.0021 - val_loss: 0.0022\n",
      "Epoch 75/100\n",
      "2/2 [==============================] - 0s 125ms/step - loss: 0.0021 - val_loss: 0.0022\n",
      "Epoch 76/100\n",
      "2/2 [==============================] - 0s 126ms/step - loss: 0.0021 - val_loss: 0.0021\n",
      "Epoch 77/100\n",
      "2/2 [==============================] - 0s 133ms/step - loss: 0.0021 - val_loss: 0.0022\n",
      "Epoch 78/100\n",
      "2/2 [==============================] - 0s 137ms/step - loss: 0.0021 - val_loss: 0.0022\n",
      "Epoch 79/100\n",
      "2/2 [==============================] - 0s 139ms/step - loss: 0.0021 - val_loss: 0.0023\n",
      "Epoch 80/100\n",
      "2/2 [==============================] - 0s 135ms/step - loss: 0.0021 - val_loss: 0.0022\n",
      "Epoch 81/100\n",
      "2/2 [==============================] - 0s 130ms/step - loss: 0.0021 - val_loss: 0.0022\n",
      "Epoch 82/100\n",
      "2/2 [==============================] - 0s 140ms/step - loss: 0.0021 - val_loss: 0.0021\n",
      "Epoch 83/100\n"
     ]
    },
    {
     "name": "stdout",
     "output_type": "stream",
     "text": [
      "2/2 [==============================] - 0s 152ms/step - loss: 0.0021 - val_loss: 0.0021\n",
      "Epoch 84/100\n",
      "2/2 [==============================] - 0s 127ms/step - loss: 0.0021 - val_loss: 0.0021\n",
      "Epoch 85/100\n",
      "2/2 [==============================] - 0s 127ms/step - loss: 0.0021 - val_loss: 0.0022\n",
      "Epoch 86/100\n",
      "2/2 [==============================] - 0s 145ms/step - loss: 0.0021 - val_loss: 0.0022\n",
      "Epoch 87/100\n",
      "2/2 [==============================] - 0s 136ms/step - loss: 0.0021 - val_loss: 0.0024\n",
      "Epoch 88/100\n",
      "2/2 [==============================] - 0s 133ms/step - loss: 0.0021 - val_loss: 0.0023\n",
      "Epoch 89/100\n",
      "2/2 [==============================] - 0s 154ms/step - loss: 0.0021 - val_loss: 0.0022\n",
      "Epoch 90/100\n",
      "2/2 [==============================] - 0s 146ms/step - loss: 0.0021 - val_loss: 0.0022\n",
      "Epoch 91/100\n",
      "2/2 [==============================] - 0s 128ms/step - loss: 0.0021 - val_loss: 0.0022\n",
      "Epoch 92/100\n",
      "2/2 [==============================] - 0s 134ms/step - loss: 0.0021 - val_loss: 0.0022\n",
      "Epoch 93/100\n",
      "2/2 [==============================] - 0s 130ms/step - loss: 0.0021 - val_loss: 0.0023\n",
      "Epoch 94/100\n",
      "2/2 [==============================] - 0s 141ms/step - loss: 0.0021 - val_loss: 0.0023\n",
      "Epoch 95/100\n",
      "2/2 [==============================] - 0s 136ms/step - loss: 0.0021 - val_loss: 0.0023\n",
      "Epoch 96/100\n",
      "2/2 [==============================] - 0s 145ms/step - loss: 0.0021 - val_loss: 0.0023\n",
      "Epoch 97/100\n",
      "2/2 [==============================] - 0s 132ms/step - loss: 0.0021 - val_loss: 0.0022\n",
      "Epoch 98/100\n",
      "2/2 [==============================] - 0s 142ms/step - loss: 0.0021 - val_loss: 0.0021\n",
      "Epoch 99/100\n",
      "2/2 [==============================] - 0s 132ms/step - loss: 0.0021 - val_loss: 0.0021\n",
      "Epoch 100/100\n",
      "2/2 [==============================] - 0s 124ms/step - loss: 0.0021 - val_loss: 0.0023\n"
     ]
    },
    {
     "data": {
      "text/plain": [
       "<keras.callbacks.History at 0x207e9cf5330>"
      ]
     },
     "execution_count": 106,
     "metadata": {},
     "output_type": "execute_result"
    }
   ],
   "source": [
    "model.fit(X_train,y_train,validation_data=(X_test,ytest),epochs=100,batch_size=64,verbose=1)"
   ]
  },
  {
   "cell_type": "code",
   "execution_count": 107,
   "metadata": {},
   "outputs": [],
   "source": [
    "import tensorflow as tf"
   ]
  },
  {
   "cell_type": "code",
   "execution_count": 108,
   "metadata": {},
   "outputs": [
    {
     "data": {
      "text/plain": [
       "'2.12.1'"
      ]
     },
     "execution_count": 108,
     "metadata": {},
     "output_type": "execute_result"
    }
   ],
   "source": [
    "tf.__version__"
   ]
  },
  {
   "cell_type": "code",
   "execution_count": 96,
   "metadata": {},
   "outputs": [
    {
     "name": "stdout",
     "output_type": "stream",
     "text": [
      "4/4 [==============================] - 0s 30ms/step\n",
      "1/1 [==============================] - 0s 25ms/step\n"
     ]
    }
   ],
   "source": [
    "### Lets Do the prediction and check performance metrics\n",
    "train_predict=model.predict(X_train)\n",
    "test_predict=model.predict(X_test)"
   ]
  },
  {
   "cell_type": "code",
   "execution_count": 109,
   "metadata": {},
   "outputs": [],
   "source": [
    "##Transformback to original form\n",
    "train_predict=scaler.inverse_transform(train_predict)\n",
    "test_predict=scaler.inverse_transform(test_predict)"
   ]
  },
  {
   "cell_type": "code",
   "execution_count": 110,
   "metadata": {},
   "outputs": [
    {
     "data": {
      "text/plain": [
       "772735.6324998968"
      ]
     },
     "execution_count": 110,
     "metadata": {},
     "output_type": "execute_result"
    }
   ],
   "source": [
    "### Calculate RMSE performance metrics\n",
    "import math\n",
    "from sklearn.metrics import mean_squared_error\n",
    "math.sqrt(mean_squared_error(y_train,train_predict))"
   ]
  },
  {
   "cell_type": "code",
   "execution_count": 111,
   "metadata": {},
   "outputs": [
    {
     "data": {
      "text/plain": [
       "774987.0755732136"
      ]
     },
     "execution_count": 111,
     "metadata": {},
     "output_type": "execute_result"
    }
   ],
   "source": [
    "### Test Data RMSE\n",
    "math.sqrt(mean_squared_error(ytest,test_predict))"
   ]
  },
  {
   "cell_type": "code",
   "execution_count": 124,
   "metadata": {},
   "outputs": [
    {
     "data": {
      "image/png": "[encoded data removed]",
      "text/plain": [
       "<Figure size 640x480 with 1 Axes>"
      ]
     },
     "metadata": {},
     "output_type": "display_data"
    }
   ],
   "source": [
    "### Plotting \n",
    "# shift train predictions for plotting\n",
    "look_back=100\n",
    "trainPredictPlot = numpy.empty_like(df1)\n",
    "trainPredictPlot[:, :] = np.nan\n",
    "trainPredictPlot[look_back:len(train_predict)+look_back, :] = train_predict\n",
    "# shift test predictions for plotting\n",
    "testPredictPlot = numpy.empty_like(df1)\n",
    "testPredictPlot[:, :] = numpy.nan\n",
    "testPredictPlot[len(train_predict)+(look_back*2)+1:len(df1)-1, :] = test_predict\n",
    "# plot baseline and predictions\n",
    "plt.plot(scaler.inverse_transform(df1))\n",
    "plt.plot(trainPredictPlot)\n",
    "plt.plot(testPredictPlot)\n",
    "plt.show()"
   ]
  },
  {
   "cell_type": "code",
   "execution_count": 125,
   "metadata": {},
   "outputs": [
    {
     "data": {
      "text/plain": [
       "113"
      ]
     },
     "execution_count": 125,
     "metadata": {},
     "output_type": "execute_result"
    }
   ],
   "source": [
    "len(test_data)"
   ]
  },
  {
   "cell_type": "code",
   "execution_count": 126,
   "metadata": {},
   "outputs": [
    {
     "data": {
      "text/plain": [
       "(1, 0)"
      ]
     },
     "execution_count": 126,
     "metadata": {},
     "output_type": "execute_result"
    }
   ],
   "source": [
    "x_input=test_data[341:].reshape(1,-1)\n",
    "x_input.shape\n"
   ]
  },
  {
   "cell_type": "code",
   "execution_count": 127,
   "metadata": {},
   "outputs": [],
   "source": [
    "temp_input=list(x_input)\n",
    "temp_input=temp_input[0].tolist()"
   ]
  },
  {
   "cell_type": "code",
   "execution_count": 128,
   "metadata": {},
   "outputs": [
    {
     "data": {
      "text/plain": [
       "[]"
      ]
     },
     "execution_count": 128,
     "metadata": {},
     "output_type": "execute_result"
    }
   ],
   "source": [
    "temp_input"
   ]
  },
  {
   "cell_type": "code",
   "execution_count": 129,
   "metadata": {},
   "outputs": [
    {
     "ename": "ValueError",
     "evalue": "cannot reshape array of size 0 into shape (1,100,1)",
     "output_type": "error",
     "traceback": [
      "\u001b[1;31m---------------------------------------------------------------------------\u001b[0m",
      "\u001b[1;31mValueError\u001b[0m                                Traceback (most recent call last)",
      "Cell \u001b[1;32mIn[129], line 24\u001b[0m\n\u001b[0;32m     22\u001b[0m     i\u001b[38;5;241m=\u001b[39mi\u001b[38;5;241m+\u001b[39m\u001b[38;5;241m1\u001b[39m\n\u001b[0;32m     23\u001b[0m \u001b[38;5;28;01melse\u001b[39;00m:\n\u001b[1;32m---> 24\u001b[0m     x_input \u001b[38;5;241m=\u001b[39m \u001b[43mx_input\u001b[49m\u001b[38;5;241;43m.\u001b[39;49m\u001b[43mreshape\u001b[49m\u001b[43m(\u001b[49m\u001b[43m(\u001b[49m\u001b[38;5;241;43m1\u001b[39;49m\u001b[43m,\u001b[49m\u001b[43m \u001b[49m\u001b[43mn_steps\u001b[49m\u001b[43m,\u001b[49m\u001b[38;5;241;43m1\u001b[39;49m\u001b[43m)\u001b[49m\u001b[43m)\u001b[49m\n\u001b[0;32m     25\u001b[0m     yhat \u001b[38;5;241m=\u001b[39m model\u001b[38;5;241m.\u001b[39mpredict(x_input, verbose\u001b[38;5;241m=\u001b[39m\u001b[38;5;241m0\u001b[39m)\n\u001b[0;32m     26\u001b[0m     \u001b[38;5;28mprint\u001b[39m(yhat[\u001b[38;5;241m0\u001b[39m])\n",
      "\u001b[1;31mValueError\u001b[0m: cannot reshape array of size 0 into shape (1,100,1)"
     ]
    }
   ],
   "source": [
    "# demonstrate prediction for next 30 days\n",
    "from numpy import array\n",
    "\n",
    "lst_output=[]\n",
    "n_steps=100\n",
    "i=0\n",
    "while(i<30):\n",
    "    \n",
    "    if(len(temp_input)>100):\n",
    "        #print(temp_input)\n",
    "        x_input=np.array(temp_input[1:])\n",
    "        print(\"{} day input {}\".format(i,x_input))\n",
    "        x_input=x_input.reshape(1,-1)\n",
    "        x_input = x_input.reshape((1, n_steps, 1))\n",
    "        #print(x_input)\n",
    "        yhat = model.predict(x_input, verbose=0)\n",
    "        print(\"{} day output {}\".format(i,yhat))\n",
    "        temp_input.extend(yhat[0].tolist())\n",
    "        temp_input=temp_input[1:]\n",
    "        #print(temp_input)\n",
    "        lst_output.extend(yhat.tolist())\n",
    "        i=i+1\n",
    "    else:\n",
    "        x_input = x_input.reshape((1, n_steps,1))\n",
    "        yhat = model.predict(x_input, verbose=0)\n",
    "        print(yhat[0])\n",
    "        temp_input.extend(yhat[0].tolist())\n",
    "        print(len(temp_input))\n",
    "        lst_output.extend(yhat.tolist())\n",
    "        i=i+1\n",
    "    \n",
    "\n",
    "print(lst_output)"
   ]
  },
  {
   "cell_type": "code",
   "execution_count": 130,
   "metadata": {},
   "outputs": [],
   "source": [
    "day_new=np.arange(1,101)\n",
    "day_pred=np.arange(101,131)"
   ]
  },
  {
   "cell_type": "code",
   "execution_count": 131,
   "metadata": {},
   "outputs": [],
   "source": [
    "import matplotlib.pyplot as plt"
   ]
  },
  {
   "cell_type": "code",
   "execution_count": 132,
   "metadata": {},
   "outputs": [
    {
     "data": {
      "text/plain": [
       "321"
      ]
     },
     "execution_count": 132,
     "metadata": {},
     "output_type": "execute_result"
    }
   ],
   "source": [
    "len(df1)"
   ]
  },
  {
   "cell_type": "code",
   "execution_count": 120,
   "metadata": {},
   "outputs": [
    {
     "ename": "ValueError",
     "evalue": "Expected 2D array, got 1D array instead:\narray=[].\nReshape your data either using array.reshape(-1, 1) if your data has a single feature or array.reshape(1, -1) if it contains a single sample.",
     "output_type": "error",
     "traceback": [
      "\u001b[1;31m---------------------------------------------------------------------------\u001b[0m",
      "\u001b[1;31mValueError\u001b[0m                                Traceback (most recent call last)",
      "Cell \u001b[1;32mIn[120], line 1\u001b[0m\n\u001b[1;32m----> 1\u001b[0m \u001b[43mscaler\u001b[49m\u001b[38;5;241;43m.\u001b[39;49m\u001b[43minverse_transform\u001b[49m\u001b[43m(\u001b[49m\u001b[43mlst_output\u001b[49m\u001b[43m)\u001b[49m\n",
      "File \u001b[1;32m~\\AppData\\Local\\anaconda3\\lib\\site-packages\\sklearn\\preprocessing\\_data.py:543\u001b[0m, in \u001b[0;36mMinMaxScaler.inverse_transform\u001b[1;34m(self, X)\u001b[0m\n\u001b[0;32m    529\u001b[0m \u001b[38;5;250m\u001b[39m\u001b[38;5;124;03m\"\"\"Undo the scaling of X according to feature_range.\u001b[39;00m\n\u001b[0;32m    530\u001b[0m \n\u001b[0;32m    531\u001b[0m \u001b[38;5;124;03mParameters\u001b[39;00m\n\u001b[1;32m   (...)\u001b[0m\n\u001b[0;32m    539\u001b[0m \u001b[38;5;124;03m    Transformed data.\u001b[39;00m\n\u001b[0;32m    540\u001b[0m \u001b[38;5;124;03m\"\"\"\u001b[39;00m\n\u001b[0;32m    541\u001b[0m check_is_fitted(\u001b[38;5;28mself\u001b[39m)\n\u001b[1;32m--> 543\u001b[0m X \u001b[38;5;241m=\u001b[39m \u001b[43mcheck_array\u001b[49m\u001b[43m(\u001b[49m\n\u001b[0;32m    544\u001b[0m \u001b[43m    \u001b[49m\u001b[43mX\u001b[49m\u001b[43m,\u001b[49m\u001b[43m \u001b[49m\u001b[43mcopy\u001b[49m\u001b[38;5;241;43m=\u001b[39;49m\u001b[38;5;28;43mself\u001b[39;49m\u001b[38;5;241;43m.\u001b[39;49m\u001b[43mcopy\u001b[49m\u001b[43m,\u001b[49m\u001b[43m \u001b[49m\u001b[43mdtype\u001b[49m\u001b[38;5;241;43m=\u001b[39;49m\u001b[43mFLOAT_DTYPES\u001b[49m\u001b[43m,\u001b[49m\u001b[43m \u001b[49m\u001b[43mforce_all_finite\u001b[49m\u001b[38;5;241;43m=\u001b[39;49m\u001b[38;5;124;43m\"\u001b[39;49m\u001b[38;5;124;43mallow-nan\u001b[39;49m\u001b[38;5;124;43m\"\u001b[39;49m\n\u001b[0;32m    545\u001b[0m \u001b[43m\u001b[49m\u001b[43m)\u001b[49m\n\u001b[0;32m    547\u001b[0m X \u001b[38;5;241m-\u001b[39m\u001b[38;5;241m=\u001b[39m \u001b[38;5;28mself\u001b[39m\u001b[38;5;241m.\u001b[39mmin_\n\u001b[0;32m    548\u001b[0m X \u001b[38;5;241m/\u001b[39m\u001b[38;5;241m=\u001b[39m \u001b[38;5;28mself\u001b[39m\u001b[38;5;241m.\u001b[39mscale_\n",
      "File \u001b[1;32m~\\AppData\\Local\\anaconda3\\lib\\site-packages\\sklearn\\utils\\validation.py:940\u001b[0m, in \u001b[0;36mcheck_array\u001b[1;34m(array, accept_sparse, accept_large_sparse, dtype, order, copy, force_all_finite, ensure_2d, allow_nd, ensure_min_samples, ensure_min_features, estimator, input_name)\u001b[0m\n\u001b[0;32m    938\u001b[0m     \u001b[38;5;66;03m# If input is 1D raise error\u001b[39;00m\n\u001b[0;32m    939\u001b[0m     \u001b[38;5;28;01mif\u001b[39;00m array\u001b[38;5;241m.\u001b[39mndim \u001b[38;5;241m==\u001b[39m \u001b[38;5;241m1\u001b[39m:\n\u001b[1;32m--> 940\u001b[0m         \u001b[38;5;28;01mraise\u001b[39;00m \u001b[38;5;167;01mValueError\u001b[39;00m(\n\u001b[0;32m    941\u001b[0m             \u001b[38;5;124m\"\u001b[39m\u001b[38;5;124mExpected 2D array, got 1D array instead:\u001b[39m\u001b[38;5;130;01m\\n\u001b[39;00m\u001b[38;5;124marray=\u001b[39m\u001b[38;5;132;01m{}\u001b[39;00m\u001b[38;5;124m.\u001b[39m\u001b[38;5;130;01m\\n\u001b[39;00m\u001b[38;5;124m\"\u001b[39m\n\u001b[0;32m    942\u001b[0m             \u001b[38;5;124m\"\u001b[39m\u001b[38;5;124mReshape your data either using array.reshape(-1, 1) if \u001b[39m\u001b[38;5;124m\"\u001b[39m\n\u001b[0;32m    943\u001b[0m             \u001b[38;5;124m\"\u001b[39m\u001b[38;5;124myour data has a single feature or array.reshape(1, -1) \u001b[39m\u001b[38;5;124m\"\u001b[39m\n\u001b[0;32m    944\u001b[0m             \u001b[38;5;124m\"\u001b[39m\u001b[38;5;124mif it contains a single sample.\u001b[39m\u001b[38;5;124m\"\u001b[39m\u001b[38;5;241m.\u001b[39mformat(array)\n\u001b[0;32m    945\u001b[0m         )\n\u001b[0;32m    947\u001b[0m \u001b[38;5;28;01mif\u001b[39;00m dtype_numeric \u001b[38;5;129;01mand\u001b[39;00m \u001b[38;5;28mhasattr\u001b[39m(array\u001b[38;5;241m.\u001b[39mdtype, \u001b[38;5;124m\"\u001b[39m\u001b[38;5;124mkind\u001b[39m\u001b[38;5;124m\"\u001b[39m) \u001b[38;5;129;01mand\u001b[39;00m array\u001b[38;5;241m.\u001b[39mdtype\u001b[38;5;241m.\u001b[39mkind \u001b[38;5;129;01min\u001b[39;00m \u001b[38;5;124m\"\u001b[39m\u001b[38;5;124mUSV\u001b[39m\u001b[38;5;124m\"\u001b[39m:\n\u001b[0;32m    948\u001b[0m     \u001b[38;5;28;01mraise\u001b[39;00m \u001b[38;5;167;01mValueError\u001b[39;00m(\n\u001b[0;32m    949\u001b[0m         \u001b[38;5;124m\"\u001b[39m\u001b[38;5;124mdtype=\u001b[39m\u001b[38;5;124m'\u001b[39m\u001b[38;5;124mnumeric\u001b[39m\u001b[38;5;124m'\u001b[39m\u001b[38;5;124m is not compatible with arrays of bytes/strings.\u001b[39m\u001b[38;5;124m\"\u001b[39m\n\u001b[0;32m    950\u001b[0m         \u001b[38;5;124m\"\u001b[39m\u001b[38;5;124mConvert your data to numeric values explicitly instead.\u001b[39m\u001b[38;5;124m\"\u001b[39m\n\u001b[0;32m    951\u001b[0m     )\n",
      "\u001b[1;31mValueError\u001b[0m: Expected 2D array, got 1D array instead:\narray=[].\nReshape your data either using array.reshape(-1, 1) if your data has a single feature or array.reshape(1, -1) if it contains a single sample."
     ]
    }
   ],
   "source": [
    "scaler.inverse_transform(lst_output)"
   ]
  },
  {
   "cell_type": "code",
   "execution_count": null,
   "metadata": {},
   "outputs": [],
   "source": [
    "plt.plot(day_new,scaler.inverse_transform(df1[1158:]))\n",
    "plt.plot(day_pred,scaler.inverse_transform(lst_output))\n",
    "plt.savefig('30daypredict.png')"
   ]
  },
  {
   "cell_type": "code",
   "execution_count": 121,
   "metadata": {},
   "outputs": [
    {
     "data": {
      "text/plain": [
       "[<matplotlib.lines.Line2D at 0x207ebea1000>]"
      ]
     },
     "execution_count": 121,
     "metadata": {},
     "output_type": "execute_result"
    },
    {
     "data": {
      "image/png": "[encoded data removed]",
      "text/plain": [
       "<Figure size 640x480 with 1 Axes>"
      ]
     },
     "metadata": {},
     "output_type": "display_data"
    }
   ],
   "source": [
    "df3=df1.tolist()\n",
    "df3.extend(lst_output)\n",
    "plt.plot(df3[1200:])"
   ]
  },
  {
   "cell_type": "code",
   "execution_count": 122,
   "metadata": {},
   "outputs": [],
   "source": [
    "df3=scaler.inverse_transform(df3).tolist()"
   ]
  },
  {
   "cell_type": "code",
   "execution_count": 123,
   "metadata": {},
   "outputs": [
    {
     "data": {
      "text/plain": [
       "[<matplotlib.lines.Line2D at 0x207ebdd4520>]"
      ]
     },
     "execution_count": 123,
     "metadata": {},
     "output_type": "execute_result"
    },
    {
     "data": {
      "image/png": "[encoded data removed]",
      "text/plain": [
       "<Figure size 640x480 with 1 Axes>"
      ]
     },
     "metadata": {},
     "output_type": "display_data"
    }
   ],
   "source": [
    "plt.plot(df3)"
   ]
  },
  {
   "cell_type": "code",
   "execution_count": null,
   "metadata": {},
   "outputs": [],
   "source": []
  }
 ],
 "metadata": {
  "kernelspec": {
   "display_name": "Python 3 (ipykernel)",
   "language": "python",
   "name": "python3"
  },
  "language_info": {
   "codemirror_mode": {
    "name": "ipython",
    "version": 3
   },
   "file_extension": ".py",
   "mimetype": "text/x-python",
   "name": "python",
   "nbconvert_exporter": "python",
   "pygments_lexer": "ipython3",
   "version": "3.10.9"
  }
 },
 "nbformat": 4,
 "nbformat_minor": 2
}
